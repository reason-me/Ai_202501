{
  "nbformat": 4,
  "nbformat_minor": 0,
  "metadata": {
    "colab": {
      "provenance": [],
      "authorship_tag": "ABX9TyP7uEAAfDmVp1oeRTwRqwQm",
      "include_colab_link": true
    },
    "kernelspec": {
      "name": "python3",
      "display_name": "Python 3"
    },
    "language_info": {
      "name": "python"
    }
  },
  "cells": [
    {
      "cell_type": "markdown",
      "metadata": {
        "id": "view-in-github",
        "colab_type": "text"
      },
      "source": [
        "<a href=\"https://colab.research.google.com/github/reason-me/Ai_202501/blob/main/%EC%9D%B8%EA%B3%B5%EC%A7%80%EB%8A%A5_%EA%B3%BC%EC%A0%9C.ipynb\" target=\"_parent\"><img src=\"https://colab.research.google.com/assets/colab-badge.svg\" alt=\"Open In Colab\"/></a>"
      ]
    },
    {
      "cell_type": "markdown",
      "source": [
        "곱셈 레이어"
      ],
      "metadata": {
        "id": "cgQEULoPwlmM"
      }
    },
    {
      "cell_type": "code",
      "execution_count": 1,
      "metadata": {
        "id": "912OtnT8siKl"
      },
      "outputs": [],
      "source": [
        "class MulLayer:\n",
        "    def __init__(self):\n",
        "        self.x = None\n",
        "        self.y = None\n",
        "\n",
        "    def forward(self, x, y):\n",
        "        self.x = x\n",
        "        self.y = y\n",
        "        out = x * y\n",
        "        return out\n",
        "\n",
        "    def backward(self, dout):\n",
        "        dx = dout * self.y\n",
        "        dy = dout * self.x\n",
        "        return dx, dy"
      ]
    },
    {
      "cell_type": "markdown",
      "source": [
        "덧셈 레이어"
      ],
      "metadata": {
        "id": "dlCtFefXyxhq"
      }
    },
    {
      "cell_type": "code",
      "execution_count": 3,
      "metadata": {
        "id": "u_kHh0D0wWys"
      },
      "outputs": [],
      "source": [
        "class AddLayer:\n",
        "\n",
        "    def __init__(self):\n",
        "        pass\n",
        "\n",
        "    def forward(self, x, y):\n",
        "        out = x + y\n",
        "        return out\n",
        "\n",
        "    def backward(self, dout):\n",
        "        dx = dout * 1\n",
        "        dy = dout * 1\n",
        "\n",
        "        return dx, dy"
      ]
    },
    {
      "cell_type": "code",
      "source": [
        "#사과정보\n",
        "apple = 100\n",
        "apple_num = 2\n",
        "#귤정보\n",
        "gyul = 250\n",
        "gyul_num = 4\n",
        "\n",
        "tax = 1.1"
      ],
      "metadata": {
        "id": "wC4vFeyty-nv"
      },
      "execution_count": 4,
      "outputs": []
    },
    {
      "cell_type": "markdown",
      "source": [
        "순전파 계산 코드"
      ],
      "metadata": {
        "id": "OLxZkFPM0Hes"
      }
    },
    {
      "cell_type": "code",
      "source": [
        "mul_apple_layer = MulLayer()\n",
        "mul_gyul_layer = MulLayer()\n",
        "\n",
        "#각 과일의 값 계산하기\n",
        "apple_price = mul_apple_layer.forward(apple, apple_num)\n",
        "gyul_price = mul_gyul_layer.forward(gyul, gyul_num)\n",
        "\n",
        "#과일값 더하기\n",
        "add_apple_gyul_layer=AddLayer()\n",
        "price=add_apple_gyul_layer.forward(apple_price, gyul_price)\n",
        "\n",
        "#세금 곱하기\n",
        "mul_tax_layer = MulLayer()\n",
        "result=mul_tax_layer.forward(price, tax)\n",
        "\n",
        "#결과\n",
        "print(result)\n"
      ],
      "metadata": {
        "colab": {
          "base_uri": "https://localhost:8080/"
        },
        "id": "8hHjNwFOzLlk",
        "outputId": "7fed06a9-5919-443c-f771-38df5a2e0608"
      },
      "execution_count": 5,
      "outputs": [
        {
          "output_type": "stream",
          "name": "stdout",
          "text": [
            "1320.0\n"
          ]
        }
      ]
    },
    {
      "cell_type": "markdown",
      "source": [
        "역전파 계산 코드"
      ],
      "metadata": {
        "id": "1dTE3pQp0LBl"
      }
    },
    {
      "cell_type": "code",
      "source": [
        "dresult = 1\n",
        "#세금레이어 역전파\n",
        "dprice, dtax = mul_tax_layer.backward(dresult)\n",
        "\n",
        "#사과와 귤값 분리\n",
        "dapple_price, dgyul_price = add_apple_gyul_layer.backward(dprice)\n",
        "\n",
        "#사과값과 귤값 각각 구하기\n",
        "dapple, dapple_num = mul_apple_layer.backward(dapple_price)\n",
        "dgyul, dgyul_num = mul_gyul_layer.backward(dgyul_price)\n",
        "\n",
        "#결과\n",
        "print(\"사과 가격에 대한 미분값은\",dapple)\n",
        "print(\"사과 개수에 대한 미분값은\",dapple_num)\n",
        "print(\"귤 가격에 대한 미분값은\",dgyul)\n",
        "print(\"귤 개수에 대한 미분값은\",dgyul_num)\n",
        "print(\"세금에 대한 미분값은\",dtax)"
      ],
      "metadata": {
        "colab": {
          "base_uri": "https://localhost:8080/"
        },
        "id": "HRPOd2Ig0OHi",
        "outputId": "5e4281d7-787f-4cf4-e6a5-a7ec516b8243"
      },
      "execution_count": 7,
      "outputs": [
        {
          "output_type": "stream",
          "name": "stdout",
          "text": [
            "사과 가격에 대한 미분값은 2.2\n",
            "사과 개수에 대한 미분값은 110.00000000000001\n",
            "귤 가격에 대한 미분값은 4.4\n",
            "귤 개수에 대한 미분값은 275.0\n",
            "세금에 대한 미분값은 1200\n"
          ]
        }
      ]
    }
  ]
}