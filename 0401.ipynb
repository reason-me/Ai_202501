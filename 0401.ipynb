{
  "nbformat": 4,
  "nbformat_minor": 0,
  "metadata": {
    "colab": {
      "provenance": [],
      "gpuType": "T4",
      "authorship_tag": "ABX9TyO7jvGpi0XNSXA+2ZG2SC8Q",
      "include_colab_link": true
    },
    "kernelspec": {
      "name": "python3",
      "display_name": "Python 3"
    },
    "language_info": {
      "name": "python"
    },
    "accelerator": "GPU"
  },
  "cells": [
    {
      "cell_type": "markdown",
      "metadata": {
        "id": "view-in-github",
        "colab_type": "text"
      },
      "source": [
        "<a href=\"https://colab.research.google.com/github/reason-me/Ai_202501/blob/main/0401.ipynb\" target=\"_parent\"><img src=\"https://colab.research.google.com/assets/colab-badge.svg\" alt=\"Open In Colab\"/></a>"
      ]
    },
    {
      "cell_type": "code",
      "execution_count": 3,
      "metadata": {
        "id": "FfAO48sypNyp"
      },
      "outputs": [],
      "source": [
        "import torch\n",
        "import torch.nn as nn\n",
        "import torch.optim as optim\n",
        "import torchvision\n",
        "import torchvision.transforms as transforms\n",
        "from torch.utils.data import DataLoader\n",
        "import matplotlib.pyplot as plt"
      ]
    },
    {
      "cell_type": "code",
      "source": [
        "device = torch.device(\"cuda\" if torch.cuda.is_available() else \"cpu\")\n",
        "print(f\"Using device: {device}\")"
      ],
      "metadata": {
        "colab": {
          "base_uri": "https://localhost:8080/"
        },
        "id": "x2XXwi1r8iFX",
        "outputId": "44b0a69c-b84f-4d5f-97f4-4aaa9b8d5fb7"
      },
      "execution_count": 4,
      "outputs": [
        {
          "output_type": "stream",
          "name": "stdout",
          "text": [
            "Using device: cuda\n"
          ]
        }
      ]
    },
    {
      "cell_type": "code",
      "source": [
        "transform = transforms.Compose([\n",
        "    transforms.ToTensor(),           # PyTorch 텐서 변환\n",
        "    transforms.Normalize((0.5,), (0.5,))  # 정규화 (-1 ~ 1)\n",
        "])"
      ],
      "metadata": {
        "id": "2wgp9jo_8s3W"
      },
      "execution_count": 5,
      "outputs": []
    },
    {
      "cell_type": "code",
      "source": [
        "train_dataset = torchvision.datasets.MNIST(root='./data', train=True, transform=transform, download=True)\n",
        "test_dataset = torchvision.datasets.MNIST(root='./data', train=False, transform=transform, download=True)\n",
        "train_loader = DataLoader(train_dataset, batch_size=100, shuffle=True)\n",
        "test_loader = DataLoader(test_dataset, batch_size=100, shuffle=False)"
      ],
      "metadata": {
        "colab": {
          "base_uri": "https://localhost:8080/"
        },
        "id": "J0SO_Ghm8xIH",
        "outputId": "edfcbf0b-1850-4724-a3f7-b9e3a506f08d"
      },
      "execution_count": 6,
      "outputs": [
        {
          "output_type": "stream",
          "name": "stderr",
          "text": [
            "100%|██████████| 9.91M/9.91M [00:00<00:00, 11.6MB/s]\n",
            "100%|██████████| 28.9k/28.9k [00:00<00:00, 339kB/s]\n",
            "100%|██████████| 1.65M/1.65M [00:00<00:00, 2.71MB/s]\n",
            "100%|██████████| 4.54k/4.54k [00:00<00:00, 6.43MB/s]\n"
          ]
        }
      ]
    },
    {
      "cell_type": "code",
      "source": [
        "class TwoLayerNet(nn.Module):\n",
        "    def __init__(self):\n",
        "        super(TwoLayerNet, self).__init__()\n",
        "        self.fc1 = nn.Linear(28*28, 50)  # 입력층 → 은닉층 (50 뉴런)\n",
        "        self.relu = nn.ReLU()\n",
        "        self.fc2 = nn.Linear(50, 10)     # 은닉층 → 출력층 (10 뉴런)\n",
        "\n",
        "    def forward(self, x):\n",
        "        x = x.view(-1, 28*28)  # 2D 이미지 -> 1D 벡터 변환\n",
        "        x = self.relu(self.fc1(x))\n",
        "        x = self.fc2(x)  # Softmax는 CrossEntropyLoss에서 자동 적용됨\n",
        "        return x\n",
        ""
      ],
      "metadata": {
        "id": "lknCAqTu8z0G"
      },
      "execution_count": 7,
      "outputs": []
    },
    {
      "cell_type": "markdown",
      "source": [
        "\n",
        "\n",
        ">모델, 손실함수, 최적화 함수 생성\n",
        "\n"
      ],
      "metadata": {
        "id": "mkZzaopcAvzf"
      }
    },
    {
      "cell_type": "code",
      "source": [
        "model = TwoLayerNet().to(device)\n",
        "criterion = nn.CrossEntropyLoss() #손실함수: 교차 엔트로피 함수\n",
        "optimizer = optim.SGD(model.parameters(), lr=0.1)  # 경사하강법"
      ],
      "metadata": {
        "id": "UL2Z_FPG9DHW"
      },
      "execution_count": 8,
      "outputs": []
    },
    {
      "cell_type": "code",
      "source": [
        "# 5. 모델 학습\n",
        "num_epochs = 16\n",
        "train_losses, test_accuracies = [], []\n",
        "\n",
        "for epoch in range(num_epochs):\n",
        "    model.train()\n",
        "    running_loss = 0.0\n",
        "\n",
        "    for images, labels in train_loader:\n",
        "        images, labels = images.to(device), labels.to(device)\n",
        "\n",
        "        optimizer.zero_grad()\n",
        "        outputs = model(images)\n",
        "        loss = criterion(outputs, labels)\n",
        "        loss.backward()\n",
        "        optimizer.step()\n",
        "\n",
        "        running_loss += loss.item()\n",
        "\n",
        "    train_losses.append(running_loss / len(train_loader))\n",
        "\n",
        "    # 테스트 정확도 계산\n",
        "    model.eval()\n",
        "    correct = 0\n",
        "    total = 0\n",
        "    with torch.no_grad():\n",
        "        for images, labels in test_loader:\n",
        "            images, labels = images.to(device), labels.to(device)\n",
        "            outputs = model(images)\n",
        "            _, predicted = torch.max(outputs, 1)\n",
        "            correct += (predicted == labels).sum().item()\n",
        "            total += labels.size(0)\n",
        "\n",
        "    test_acc = correct / total\n",
        "    test_accuracies.append(test_acc)\n",
        "\n",
        "    print(f\"Epoch [{epoch+1}/{num_epochs}], Loss: {train_losses[-1]:.4f}, Test Accuracy: {test_acc:.4f}\")"
      ],
      "metadata": {
        "colab": {
          "base_uri": "https://localhost:8080/"
        },
        "id": "kzu3h9S79ykG",
        "outputId": "71b6be04-f62a-49b6-c0da-cf3e71e2676f"
      },
      "execution_count": 9,
      "outputs": [
        {
          "output_type": "stream",
          "name": "stdout",
          "text": [
            "Epoch [1/16], Loss: 0.4903, Test Accuracy: 0.9170\n",
            "Epoch [2/16], Loss: 0.2347, Test Accuracy: 0.9376\n",
            "Epoch [3/16], Loss: 0.1795, Test Accuracy: 0.9521\n",
            "Epoch [4/16], Loss: 0.1503, Test Accuracy: 0.9586\n",
            "Epoch [5/16], Loss: 0.1293, Test Accuracy: 0.9611\n",
            "Epoch [6/16], Loss: 0.1156, Test Accuracy: 0.9634\n",
            "Epoch [7/16], Loss: 0.1044, Test Accuracy: 0.9651\n",
            "Epoch [8/16], Loss: 0.0953, Test Accuracy: 0.9658\n",
            "Epoch [9/16], Loss: 0.0880, Test Accuracy: 0.9648\n",
            "Epoch [10/16], Loss: 0.0829, Test Accuracy: 0.9640\n",
            "Epoch [11/16], Loss: 0.0773, Test Accuracy: 0.9723\n",
            "Epoch [12/16], Loss: 0.0733, Test Accuracy: 0.9671\n",
            "Epoch [13/16], Loss: 0.0691, Test Accuracy: 0.9695\n",
            "Epoch [14/16], Loss: 0.0656, Test Accuracy: 0.9704\n",
            "Epoch [15/16], Loss: 0.0638, Test Accuracy: 0.9701\n",
            "Epoch [16/16], Loss: 0.0606, Test Accuracy: 0.9717\n"
          ]
        }
      ]
    },
    {
      "cell_type": "code",
      "source": [
        "plt.plot(train_losses, label=\"Train Loss\")\n",
        "plt.xlabel(\"Epochs\")\n",
        "plt.ylabel(\"Loss\")\n",
        "plt.legend()\n",
        "plt.show()"
      ],
      "metadata": {
        "colab": {
          "base_uri": "https://localhost:8080/",
          "height": 449
        },
        "id": "umBTbVoe_ZGH",
        "outputId": "ead8f05e-1f50-4271-9c7a-942a44d996ba"
      },
      "execution_count": 10,
      "outputs": [
        {
          "output_type": "display_data",
          "data": {
            "text/plain": [
              "<Figure size 640x480 with 1 Axes>"
            ],
            "image/png": "[encoded data removed]"
          },
          "metadata": {}
        }
      ]
    },
    {
      "cell_type": "code",
      "source": [
        "plt.plot(test_accuracies, label=\"Test Accuracy\")\n",
        "plt.xlabel(\"Epochs\")\n",
        "plt.ylabel(\"Accuracy\")\n",
        "plt.legend()\n",
        "plt.show()"
      ],
      "metadata": {
        "colab": {
          "base_uri": "https://localhost:8080/",
          "height": 449
        },
        "id": "uCQXpSLJ_dJ2",
        "outputId": "9f6ce618-8e1d-495e-c54c-49eb588b0fa2"
      },
      "execution_count": 11,
      "outputs": [
        {
          "output_type": "display_data",
          "data": {
            "text/plain": [
              "<Figure size 640x480 with 1 Axes>"
            ],
            "image/png": "[encoded data removed]"
          },
          "metadata": {}
        }
      ]
    },
    {
      "cell_type": "markdown",
      "source": [
        "PyTorch를 이용한 MNIST CNN"
      ],
      "metadata": {
        "id": "3ticYRTFIgrl"
      }
    },
    {
      "cell_type": "code",
      "source": [
        "import numpy as np\n",
        "import torch\n",
        "import torch.nn as nn\n",
        "import torch.nn.functional as F\n",
        "import torch.optim as optim\n",
        "import torchvision\n",
        "from torchvision import datasets, transforms\n",
        "from torch.utils.data import DataLoader\n",
        "import matplotlib.pyplot as plt\n",
        "from datetime import datetime"
      ],
      "metadata": {
        "id": "Wp_XTSZqIhtk"
      },
      "execution_count": 7,
      "outputs": []
    },
    {
      "cell_type": "markdown",
      "source": [
        "Device 설정"
      ],
      "metadata": {
        "id": "NYa2is6SI2XE"
      }
    },
    {
      "cell_type": "code",
      "source": [
        "device = torch.device(\"cuda\" if torch.cuda.is_available() else \"cpu\")\n",
        "print(f\"Using device: {device}\")"
      ],
      "metadata": {
        "colab": {
          "base_uri": "https://localhost:8080/"
        },
        "id": "CEICaRK7IrtE",
        "outputId": "c78bdb91-060e-4e60-8b2c-1ae3286ba725"
      },
      "execution_count": 8,
      "outputs": [
        {
          "output_type": "stream",
          "name": "stdout",
          "text": [
            "Using device: cuda\n"
          ]
        }
      ]
    },
    {
      "cell_type": "markdown",
      "source": [
        "파라메터 설정"
      ],
      "metadata": {
        "id": "g8sKYgW3Iygk"
      }
    },
    {
      "cell_type": "code",
      "source": [
        "learning_rate = 0.001\n",
        "batch = 32\n",
        "epochs = 15\n",
        "\n",
        "image_size = 32\n",
        "nb_class = 10"
      ],
      "metadata": {
        "id": "8czP256SIuGd"
      },
      "execution_count": 9,
      "outputs": []
    },
    {
      "cell_type": "markdown",
      "source": [
        "MNIST 데이셋 로드"
      ],
      "metadata": {
        "id": "6HhO0fgyI4qU"
      }
    },
    {
      "cell_type": "code",
      "source": [
        "# transforms 정의하기\n",
        "transforms= transforms.Compose([transforms.Resize((image_size, image_size)),\n",
        "                                 transforms.ToTensor()])\n",
        "\n",
        "# data set 다운받고 생성하기\n",
        "train_dataset = datasets.MNIST(root='./data',\n",
        "                               train=True,\n",
        "                               transform=transforms,\n",
        "                               download=True)\n",
        "\n",
        "valid_dataset = datasets.MNIST(root='./data',\n",
        "                               train=False,\n",
        "                               transform=transforms)\n",
        "\n",
        "# data loader 정의하기\n",
        "train_loader = DataLoader(dataset=train_dataset,\n",
        "                          batch_size=batch,\n",
        "                          shuffle=True)\n",
        "\n",
        "valid_loader = DataLoader(dataset=valid_dataset,\n",
        "                          batch_size=batch,\n",
        "                          shuffle=False)"
      ],
      "metadata": {
        "colab": {
          "base_uri": "https://localhost:8080/"
        },
        "id": "qg9mPzQXI6ql",
        "outputId": "ee756dc1-5d70-4b64-eef0-76ac6ed8a0a0"
      },
      "execution_count": 10,
      "outputs": [
        {
          "output_type": "stream",
          "name": "stderr",
          "text": [
            "100%|██████████| 9.91M/9.91M [00:11<00:00, 899kB/s] \n",
            "100%|██████████| 28.9k/28.9k [00:00<00:00, 134kB/s]\n",
            "100%|██████████| 1.65M/1.65M [00:01<00:00, 1.27MB/s]\n",
            "100%|██████████| 4.54k/4.54k [00:00<00:00, 12.0MB/s]\n"
          ]
        }
      ]
    },
    {
      "cell_type": "markdown",
      "source": [
        "신경망 모델 클래스 정의"
      ],
      "metadata": {
        "id": "Rg0V0ZJaJtgc"
      }
    },
    {
      "cell_type": "code",
      "source": [
        "class LeNet5(nn.Module):\n",
        "    def __init__(self, n_classes):\n",
        "        super(LeNet5, self).__init__()\n",
        "\n",
        "        self.feature_extractor = nn.Sequential(\n",
        "            nn.Conv2d(in_channels=1, out_channels=6, kernel_size=5, stride=1),\n",
        "            nn.Tanh(),\n",
        "            nn.AvgPool2d(kernel_size=2),\n",
        "            nn.Conv2d(in_channels=6, out_channels=16, kernel_size=5, stride=1),\n",
        "            nn.Tanh(),\n",
        "            nn.AvgPool2d(kernel_size=2),\n",
        "            nn.Conv2d(in_channels=16, out_channels=120, kernel_size=5, stride=1),\n",
        "            nn.Tanh()\n",
        "        )\n",
        "        self.classifier = nn.Sequential(\n",
        "            nn.Linear(in_features=120, out_features=84),\n",
        "            nn.Tanh(),\n",
        "            nn.Linear(in_features=84, out_features=n_classes),\n",
        "        )\n",
        "\n",
        "    def forward(self, x):\n",
        "        x = self.feature_extractor(x)\n",
        "        x = torch.flatten(x, 1)\n",
        "        logits = self.classifier(x)\n",
        "        probs = F.softmax(logits, dim=1)\n",
        "        return logits, probs"
      ],
      "metadata": {
        "id": "C41f5F_zJvDc"
      },
      "execution_count": 11,
      "outputs": []
    },
    {
      "cell_type": "markdown",
      "source": [
        "예측 정확도 측정 함수"
      ],
      "metadata": {
        "id": "QZCDvw36JxZ0"
      }
    },
    {
      "cell_type": "code",
      "source": [
        "def get_accuracy(model, data_loader, device):\n",
        "    correct_pred = 0\n",
        "    n = 0\n",
        "\n",
        "    with torch.no_grad():\n",
        "        model.eval()\n",
        "        for X, y_true in data_loader:\n",
        "\n",
        "            X = X.to(device)\n",
        "            y_true = y_true.to(device)\n",
        "\n",
        "            _, y_prob = model(X)\n",
        "            _, predicted_labels = torch.max(y_prob, 1)\n",
        "\n",
        "            n += y_true.size(0)\n",
        "            correct_pred += (predicted_labels == y_true).sum()\n",
        "\n",
        "    return correct_pred.float() / n"
      ],
      "metadata": {
        "id": "WmGF-y1dJy2d"
      },
      "execution_count": 12,
      "outputs": []
    },
    {
      "cell_type": "markdown",
      "source": [
        "Loss 시각화 함수"
      ],
      "metadata": {
        "id": "jznLendnJ1J0"
      }
    },
    {
      "cell_type": "code",
      "source": [
        "def plot_losses(train_losses, valid_losses):\n",
        "    train_losses = np.array(train_losses)\n",
        "    valid_losses = np.array(valid_losses)\n",
        "\n",
        "    fig, ax = plt.subplots(figsize = (8, 4.5))\n",
        "\n",
        "    ax.plot(train_losses, color='blue', label='Training loss')\n",
        "    ax.plot(valid_losses, color='red', label='Validation loss')\n",
        "    ax.set(title=\"Loss over epochs\",\n",
        "            xlabel='Epoch',\n",
        "            ylabel='Loss')\n",
        "    ax.legend()\n",
        "    fig.show()\n",
        "\n",
        "    # plot style을 기본값으로 설정\n",
        "    plt.style.use('default')\n",
        ""
      ],
      "metadata": {
        "id": "Dg2Bt7K6J2dt"
      },
      "execution_count": 13,
      "outputs": []
    },
    {
      "cell_type": "markdown",
      "source": [
        "Train 함수"
      ],
      "metadata": {
        "id": "z9Om4l6oJ4NE"
      }
    },
    {
      "cell_type": "code",
      "source": [
        "def train(train_loader, model, criterion, optimizer, device):\n",
        "    model.train()\n",
        "    running_loss = 0\n",
        "\n",
        "    for X, y_true in train_loader:\n",
        "\n",
        "        optimizer.zero_grad()\n",
        "\n",
        "        X = X.to(device)\n",
        "        y_true = y_true.to(device)\n",
        "\n",
        "        # 순전파\n",
        "        y_hat, _ = model(X)\n",
        "        loss = criterion(y_hat, y_true)\n",
        "        running_loss += loss.item() * X.size(0)\n",
        "\n",
        "        # 역전파\n",
        "        loss.backward()\n",
        "        optimizer.step()\n",
        "\n",
        "    epoch_loss = running_loss / len(train_loader.dataset)\n",
        "    return model, optimizer, epoch_loss"
      ],
      "metadata": {
        "id": "YqCgprhpJ6v0"
      },
      "execution_count": 14,
      "outputs": []
    },
    {
      "cell_type": "markdown",
      "source": [
        "Validation 함수"
      ],
      "metadata": {
        "id": "WK4Ja_PQJ560"
      }
    },
    {
      "cell_type": "code",
      "source": [
        "def validate(valid_loader, model, criterion, device):\n",
        "    model.eval()\n",
        "    running_loss = 0\n",
        "\n",
        "    for X, y_true in valid_loader:\n",
        "\n",
        "        X = X.to(device)\n",
        "        y_true = y_true.to(device)\n",
        "\n",
        "        # 순전파와 손실 기록하기\n",
        "        y_hat, _ = model(X)\n",
        "        loss = criterion(y_hat, y_true)\n",
        "        running_loss += loss.item() * X.size(0)\n",
        "\n",
        "    epoch_loss = running_loss / len(valid_loader.dataset)\n",
        "\n",
        "    return model, epoch_loss"
      ],
      "metadata": {
        "id": "ShJO2vVWKAak"
      },
      "execution_count": 15,
      "outputs": []
    },
    {
      "cell_type": "markdown",
      "source": [
        "반복 학습 함수"
      ],
      "metadata": {
        "id": "17VLYoglKCVk"
      }
    },
    {
      "cell_type": "code",
      "source": [
        "def training_loop(model, criterion, optimizer, train_loader, valid_loader, epochs, device, print_every=1):\n",
        "    # metrics를 저장하기 위한 객체 설정\n",
        "    best_loss = 1e10\n",
        "    train_losses = []\n",
        "    valid_losses = []\n",
        "\n",
        "    # model 학습하기\n",
        "    for epoch in range(0, epochs):\n",
        "\n",
        "        # training\n",
        "        model, optimizer, train_loss = train(train_loader, model, criterion, optimizer, device)\n",
        "        train_losses.append(train_loss)\n",
        "\n",
        "        # validation\n",
        "        with torch.no_grad():\n",
        "            model, valid_loss = validate(valid_loader, model, criterion, device)\n",
        "            valid_losses.append(valid_loss)\n",
        "\n",
        "        if epoch % print_every == (print_every - 1):\n",
        "\n",
        "            train_acc = get_accuracy(model, train_loader, device=device)\n",
        "            valid_acc = get_accuracy(model, valid_loader, device=device)\n",
        "\n",
        "            print(f'{datetime.now().time().replace(microsecond=0)} --- '\n",
        "                  f'Epoch: {epoch}\\t'\n",
        "                  f'Train loss: {train_loss:.4f}\\t'\n",
        "                  f'Valid loss: {valid_loss:.4f}\\t'\n",
        "                  f'Train accuracy: {100 * train_acc:.2f}\\t'\n",
        "                  f'Valid accuracy: {100 * valid_acc:.2f}')\n",
        "\n",
        "    plot_losses(train_losses, valid_losses)\n",
        "\n",
        "    return model, optimizer, (train_losses, valid_losses)"
      ],
      "metadata": {
        "id": "0W_LWZtxKDrs"
      },
      "execution_count": 16,
      "outputs": []
    },
    {
      "cell_type": "code",
      "source": [
        "#RANDOM_SEED = 42\n",
        "#torch.manual_seed(RANDOM_SEED)\n",
        "\n",
        "model = LeNet5(nb_class).to(device)\n",
        "optimizer = torch.optim.Adam(model.parameters(), lr=learning_rate)\n",
        "criterion = nn.CrossEntropyLoss()\n",
        "\n",
        "\n",
        "model, optimizer, _ = training_loop(model, criterion, optimizer, train_loader,\n",
        "                                    valid_loader, epochs, device)"
      ],
      "metadata": {
        "colab": {
          "base_uri": "https://localhost:8080/",
          "height": 724
        },
        "id": "nOJhpL-iKG-s",
        "outputId": "6eb5a646-003d-497f-f8b0-1fc742aea9c6"
      },
      "execution_count": 17,
      "outputs": [
        {
          "output_type": "stream",
          "name": "stdout",
          "text": [
            "11:41:24 --- Epoch: 0\tTrain loss: 0.2439\tValid loss: 0.1071\tTrain accuracy: 97.00\tValid accuracy: 96.80\n",
            "11:41:50 --- Epoch: 1\tTrain loss: 0.0856\tValid loss: 0.0719\tTrain accuracy: 98.10\tValid accuracy: 97.93\n",
            "11:42:16 --- Epoch: 2\tTrain loss: 0.0611\tValid loss: 0.0640\tTrain accuracy: 98.37\tValid accuracy: 97.98\n",
            "11:42:41 --- Epoch: 3\tTrain loss: 0.0463\tValid loss: 0.0656\tTrain accuracy: 98.51\tValid accuracy: 97.84\n",
            "11:43:07 --- Epoch: 4\tTrain loss: 0.0395\tValid loss: 0.0539\tTrain accuracy: 99.05\tValid accuracy: 98.42\n",
            "11:43:33 --- Epoch: 5\tTrain loss: 0.0321\tValid loss: 0.0525\tTrain accuracy: 99.15\tValid accuracy: 98.44\n",
            "11:43:59 --- Epoch: 6\tTrain loss: 0.0261\tValid loss: 0.0501\tTrain accuracy: 99.38\tValid accuracy: 98.45\n",
            "11:44:25 --- Epoch: 7\tTrain loss: 0.0236\tValid loss: 0.0463\tTrain accuracy: 99.51\tValid accuracy: 98.54\n",
            "11:44:50 --- Epoch: 8\tTrain loss: 0.0201\tValid loss: 0.0464\tTrain accuracy: 99.57\tValid accuracy: 98.63\n",
            "11:45:16 --- Epoch: 9\tTrain loss: 0.0178\tValid loss: 0.0510\tTrain accuracy: 99.48\tValid accuracy: 98.57\n",
            "11:45:43 --- Epoch: 10\tTrain loss: 0.0163\tValid loss: 0.0441\tTrain accuracy: 99.64\tValid accuracy: 98.74\n",
            "11:46:11 --- Epoch: 11\tTrain loss: 0.0160\tValid loss: 0.0587\tTrain accuracy: 99.34\tValid accuracy: 98.35\n",
            "11:46:39 --- Epoch: 12\tTrain loss: 0.0134\tValid loss: 0.0500\tTrain accuracy: 99.60\tValid accuracy: 98.55\n",
            "11:47:06 --- Epoch: 13\tTrain loss: 0.0126\tValid loss: 0.0494\tTrain accuracy: 99.68\tValid accuracy: 98.69\n",
            "11:47:34 --- Epoch: 14\tTrain loss: 0.0135\tValid loss: 0.0580\tTrain accuracy: 99.57\tValid accuracy: 98.47\n"
          ]
        },
        {
          "output_type": "display_data",
          "data": {
            "text/plain": [
              "<Figure size 800x450 with 1 Axes>"
            ],
            "image/png": "[encoded data removed]"
          },
          "metadata": {}
        }
      ]
    }
  ]
}