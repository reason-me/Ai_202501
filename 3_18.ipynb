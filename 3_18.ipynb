{
  "nbformat": 4,
  "nbformat_minor": 0,
  "metadata": {
    "colab": {
      "provenance": [],
      "authorship_tag": "ABX9TyPzgncx2xhMEK5ebQPTsSz9",
      "include_colab_link": true
    },
    "kernelspec": {
      "name": "python3",
      "display_name": "Python 3"
    },
    "language_info": {
      "name": "python"
    }
  },
  "cells": [
    {
      "cell_type": "markdown",
      "metadata": {
        "id": "view-in-github",
        "colab_type": "text"
      },
      "source": [
        "<a href=\"https://colab.research.google.com/github/reason-me/Ai_202501/blob/main/3_18.ipynb\" target=\"_parent\"><img src=\"https://colab.research.google.com/assets/colab-badge.svg\" alt=\"Open In Colab\"/></a>"
      ]
    },
    {
      "cell_type": "code",
      "execution_count": 11,
      "metadata": {
        "colab": {
          "base_uri": "https://localhost:8080/"
        },
        "id": "o830X7imtkdL",
        "outputId": "8b9d4000-1fbf-41d2-82ba-602d0bc51a44"
      },
      "outputs": [
        {
          "output_type": "stream",
          "name": "stdout",
          "text": [
            "Epoch 1: weights=[0.1 0.1], Bias=0.0, Error=1\n",
            "Epoch 2: weights=[0.2 0.1], Bias=-0.1, Error=1\n",
            "Epoch 3: weights=[0.2 0.1], Bias=-0.20000000000000004, Error=1\n",
            "Epoch 4: weights=[0.2 0.1], Bias=-0.20000000000000004, Error=0\n",
            "Epoch 5: weights=[0.2 0.1], Bias=-0.20000000000000004, Error=0\n",
            "Epoch 6: weights=[0.2 0.1], Bias=-0.20000000000000004, Error=0\n",
            "Epoch 7: weights=[0.2 0.1], Bias=-0.20000000000000004, Error=0\n",
            "Epoch 8: weights=[0.2 0.1], Bias=-0.20000000000000004, Error=0\n",
            "Epoch 9: weights=[0.2 0.1], Bias=-0.20000000000000004, Error=0\n",
            "Epoch 10: weights=[0.2 0.1], Bias=-0.20000000000000004, Error=0\n",
            "\n",
            "[학습결과]\n",
            "Weights: [0.2 0.1], Bias: -0.20000000000000004\n",
            "\n",
            "[게이트 테스트]\n",
            "입력: [0 0], 출력: 0\n",
            "입력: [0 1], 출력: 0\n",
            "입력: [1 0], 출력: 0\n",
            "입력: [1 1], 출력: 1\n"
          ]
        }
      ],
      "source": [
        "import numpy as np\n",
        "\n",
        "def step_function(x):\n",
        "    return 1 if x >= 0 else 0\n",
        "\n",
        "class Perceptron:\n",
        "    def __init__(self, input_size, lr=0.1, epochs=10):\n",
        "        self.weights = np.zeros(input_size)\n",
        "        self.bias = 0\n",
        "        self.lr = lr\n",
        "        self.epochs = epochs #일대기? 입력값이 n개일때 함수가 돈 횟수??\n",
        "\n",
        "    def predict(self, x): #AND연산 퍼셉트론 논리식 표현\n",
        "        linear_output = np.dot(x,self.weights) + self.bias\n",
        "        return step_function(linear_output)\n",
        "\n",
        "    def train(self, X, y):\n",
        "        for epoch in range(self.epochs):\n",
        "            for i in range(len(X)):\n",
        "                y_pred = self.predict(X[i])\n",
        "                error = y[i] - y_pred\n",
        "                self.weights += self.lr * error * X[i]\n",
        "                self.bias +=  self.lr * error\n",
        "            print(f\"Epoch {epoch+1}: weights={self.weights}, Bias={self.bias}, Error={error}\")\n",
        "\n",
        "\n",
        "X = np.array([[0,0],[0,1],[1,0],[1,1]])\n",
        "y = np.array([0,0,0,1])\n",
        "\n",
        "perceptron = Perceptron(input_size=2, lr=0.1, epochs=10)\n",
        "perceptron.train(X,y)\n",
        "\n",
        "print(\"\\n[학습결과]\")\n",
        "print(f\"Weights: {perceptron.weights}, Bias: {perceptron.bias}\")\n",
        "\n",
        "#결과확인\n",
        "print(\"\\n[게이트 테스트]\")\n",
        "for inputs in X:\n",
        "    print(f\"입력: {inputs}, 출력: {perceptron.predict(inputs)}\")"
      ]
    },
    {
      "cell_type": "code",
      "source": [
        "X = np.array([[0,0],[0,1],[1,0],[1,1]])\n",
        "#nand정답\n",
        "y_nand = np.array([1,1,1,0])\n",
        "#and정답\n",
        "y_and = np.array([0,0,0,1])\n",
        "#or정답\n",
        "y_or = np.array([0,1,1,1])"
      ],
      "metadata": {
        "id": "OqSN5W3E0ujk"
      },
      "execution_count": 20,
      "outputs": []
    },
    {
      "cell_type": "code",
      "source": [
        "# NAND\n",
        "perceptron_nand = Perceptron(input_size=2, lr=0.1, epochs=10)\n",
        "perceptron_nand.train(X,y_nand)\n",
        "weights_nand = perceptron_nand.weights\n",
        "bias_nand = perceptron_nand.bias"
      ],
      "metadata": {
        "colab": {
          "base_uri": "https://localhost:8080/"
        },
        "id": "EP9CQ-2N6JPM",
        "outputId": "ff5b7f33-3a4a-4495-a750-676e45922edb"
      },
      "execution_count": 21,
      "outputs": [
        {
          "output_type": "stream",
          "name": "stdout",
          "text": [
            "Epoch 1: weights=[-0.1 -0.1], Bias=-0.1, Error=-1\n",
            "Epoch 2: weights=[-0.2 -0.1], Bias=0.0, Error=-1\n",
            "Epoch 3: weights=[-0.2 -0.1], Bias=0.1, Error=-1\n",
            "Epoch 4: weights=[-0.2 -0.2], Bias=0.1, Error=-1\n",
            "Epoch 5: weights=[-0.2 -0.1], Bias=0.2, Error=0\n",
            "Epoch 6: weights=[-0.2 -0.1], Bias=0.2, Error=0\n",
            "Epoch 7: weights=[-0.2 -0.1], Bias=0.2, Error=0\n",
            "Epoch 8: weights=[-0.2 -0.1], Bias=0.2, Error=0\n",
            "Epoch 9: weights=[-0.2 -0.1], Bias=0.2, Error=0\n",
            "Epoch 10: weights=[-0.2 -0.1], Bias=0.2, Error=0\n"
          ]
        }
      ]
    },
    {
      "cell_type": "code",
      "source": [
        "#AND\n",
        "perceptron_and = Perceptron(input_size=2, lr=0.1, epochs=10)\n",
        "perceptron_and.train(X,y_and)\n",
        "weights_and = perceptron_and.weights\n",
        "bias_and = perceptron_and.bias"
      ],
      "metadata": {
        "colab": {
          "base_uri": "https://localhost:8080/"
        },
        "id": "lXHKBEIW6ZBz",
        "outputId": "e15e67fe-5fc5-4592-a694-4d032ddea65c"
      },
      "execution_count": 22,
      "outputs": [
        {
          "output_type": "stream",
          "name": "stdout",
          "text": [
            "Epoch 1: weights=[0.1 0.1], Bias=0.0, Error=1\n",
            "Epoch 2: weights=[0.2 0.1], Bias=-0.1, Error=1\n",
            "Epoch 3: weights=[0.2 0.1], Bias=-0.20000000000000004, Error=1\n",
            "Epoch 4: weights=[0.2 0.1], Bias=-0.20000000000000004, Error=0\n",
            "Epoch 5: weights=[0.2 0.1], Bias=-0.20000000000000004, Error=0\n",
            "Epoch 6: weights=[0.2 0.1], Bias=-0.20000000000000004, Error=0\n",
            "Epoch 7: weights=[0.2 0.1], Bias=-0.20000000000000004, Error=0\n",
            "Epoch 8: weights=[0.2 0.1], Bias=-0.20000000000000004, Error=0\n",
            "Epoch 9: weights=[0.2 0.1], Bias=-0.20000000000000004, Error=0\n",
            "Epoch 10: weights=[0.2 0.1], Bias=-0.20000000000000004, Error=0\n"
          ]
        }
      ]
    },
    {
      "cell_type": "code",
      "source": [
        "#OR\n",
        "perceptron_or= Perceptron(input_size=2, lr=0.1, epochs=10)\n",
        "perceptron_or.train(X,y_or)\n",
        "weights_or = perceptron_or.weights\n",
        "bias_or = perceptron_or.bias"
      ],
      "metadata": {
        "colab": {
          "base_uri": "https://localhost:8080/"
        },
        "id": "gr-FfDBg6oy9",
        "outputId": "139c9fb9-6982-442f-eab8-17d43c30f859"
      },
      "execution_count": 23,
      "outputs": [
        {
          "output_type": "stream",
          "name": "stdout",
          "text": [
            "Epoch 1: weights=[0.  0.1], Bias=0.0, Error=0\n",
            "Epoch 2: weights=[0.1 0.1], Bias=0.0, Error=0\n",
            "Epoch 3: weights=[0.1 0.1], Bias=-0.1, Error=0\n",
            "Epoch 4: weights=[0.1 0.1], Bias=-0.1, Error=0\n",
            "Epoch 5: weights=[0.1 0.1], Bias=-0.1, Error=0\n",
            "Epoch 6: weights=[0.1 0.1], Bias=-0.1, Error=0\n",
            "Epoch 7: weights=[0.1 0.1], Bias=-0.1, Error=0\n",
            "Epoch 8: weights=[0.1 0.1], Bias=-0.1, Error=0\n",
            "Epoch 9: weights=[0.1 0.1], Bias=-0.1, Error=0\n",
            "Epoch 10: weights=[0.1 0.1], Bias=-0.1, Error=0\n"
          ]
        }
      ]
    },
    {
      "cell_type": "code",
      "source": [
        "#XOR\n",
        "def xor(x):\n",
        "    nand_output = step_function(np.dot(x, weights_nand) + bias_nand)\n",
        "    or_output = step_function(np.dot(x, weights_or) + bias_or)\n",
        "    and_input = np.array([nand_output, or_output])\n",
        "    #print(f\"입력: {x} , nand_output: {nand_output}, and_output: {and_input}, or_input: {and_input}\")\n",
        "    xor_output = step_function(np.dot(and_input, weights_and) + bias_and)\n",
        "    return xor_output"
      ],
      "metadata": {
        "id": "9kLoQmtx63gd"
      },
      "execution_count": 24,
      "outputs": []
    },
    {
      "cell_type": "code",
      "source": [
        "for inputs in X:\n",
        "    print(f\"입력: {inputs}, 출력: {xor(inputs)}\")"
      ],
      "metadata": {
        "colab": {
          "base_uri": "https://localhost:8080/"
        },
        "id": "cgP8WPRb7v30",
        "outputId": "101fe1e2-79f4-444c-f0be-41e090562815"
      },
      "execution_count": 25,
      "outputs": [
        {
          "output_type": "stream",
          "name": "stdout",
          "text": [
            "입력: [0 0], 출력: 0\n",
            "입력: [0 1], 출력: 1\n",
            "입력: [1 0], 출력: 1\n",
            "입력: [1 1], 출력: 0\n"
          ]
        }
      ]
    }
  ]
}