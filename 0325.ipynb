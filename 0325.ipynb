{
  "nbformat": 4,
  "nbformat_minor": 0,
  "metadata": {
    "colab": {
      "provenance": [],
      "authorship_tag": "ABX9TyOgXI6+jpv6qiDLkU9Jc9Q2",
      "include_colab_link": true
    },
    "kernelspec": {
      "name": "python3",
      "display_name": "Python 3"
    },
    "language_info": {
      "name": "python"
    }
  },
  "cells": [
    {
      "cell_type": "markdown",
      "metadata": {
        "id": "view-in-github",
        "colab_type": "text"
      },
      "source": [
        "<a href=\"https://colab.research.google.com/github/reason-me/Ai_202501/blob/main/0325.ipynb\" target=\"_parent\"><img src=\"https://colab.research.google.com/assets/colab-badge.svg\" alt=\"Open In Colab\"/></a>"
      ]
    },
    {
      "cell_type": "code",
      "execution_count": 2,
      "metadata": {
        "id": "912OtnT8siKl"
      },
      "outputs": [],
      "source": [
        "class MulLayer:\n",
        "    def __init__(self):\n",
        "        self.x = None\n",
        "        self.y = None\n",
        "\n",
        "    def forward(self, x, y):\n",
        "        self.x = x\n",
        "        self.y = y\n",
        "        out = x * y\n",
        "        return out\n",
        "\n",
        "    def backward(self, dout):\n",
        "        dx = dout * self.y\n",
        "        dy = dout * self.x\n",
        "        return dx, dy"
      ]
    },
    {
      "cell_type": "code",
      "source": [
        "apple =100\n",
        "apple_num = 2\n",
        "tax = 1.1\n",
        "\n",
        "mul_apple_layer = MulLayer()\n",
        "mul_tax_layer = MulLayer()\n",
        "\n",
        "apple_price = mul_apple_layer.forward(apple, apple_num)\n",
        "price = mul_tax_layer.forward(apple_price, tax)\n",
        "\n",
        "print(price)"
      ],
      "metadata": {
        "colab": {
          "base_uri": "https://localhost:8080/"
        },
        "id": "gml89xlSycCE",
        "outputId": "41442d40-c61e-4bbd-c8e5-fb202b9c25bf"
      },
      "execution_count": 3,
      "outputs": [
        {
          "output_type": "stream",
          "name": "stdout",
          "text": [
            "220.00000000000003\n"
          ]
        }
      ]
    },
    {
      "cell_type": "code",
      "source": [
        "dprice = 1\n",
        "dapple_price, dtax = mul_tax_layer.backward(dprice)\n",
        "dapple, dapple_num = mul_apple_layer.backward(dapple_price)\n",
        "\n",
        "print(dapple, dapple_num, dtax)"
      ],
      "metadata": {
        "colab": {
          "base_uri": "https://localhost:8080/"
        },
        "id": "WZleCBtGy1RS",
        "outputId": "4e479cd4-db42-4c59-cba3-e4d3e85d107f"
      },
      "execution_count": 4,
      "outputs": [
        {
          "output_type": "stream",
          "name": "stdout",
          "text": [
            "2.2 110.00000000000001 200\n"
          ]
        }
      ]
    },
    {
      "cell_type": "code",
      "source": [
        "import sys, os\n",
        "if not os.path.exists(\"dataset/mnist.py\"):\n",
        "  !wget -P dataset https://raw.githubusercontent.com/jskimn/aiservice_lesson/main/NNBasic/005_minist/dataset/mnist.py\n",
        "\n",
        "if not os.path.exists(\"dataset/train-images-idx3-ubyte.gz\"):\n",
        "  !wget -P dataset https://raw.githubusercontent.com/jskimn/aiservice_lesson/main/NNBasic/005_minist/dataset/train-images-idx3-ubyte.gz\n",
        "\n",
        "if not os.path.exists(\"dataset/train-labels-idx1-ubyte.gz\"):\n",
        "  !wget -P dataset https://raw.githubusercontent.com/jskimn/aiservice_lesson/main/NNBasic/005_minist/dataset/train-labels-idx1-ubyte.gz\n",
        "\n",
        "if not os.path.exists(\"dataset/t10k-images-idx3-ubyte.gz\"):\n",
        "  !wget -P dataset https://raw.githubusercontent.com/jskimn/aiservice_lesson/main/NNBasic/005_minist/dataset/t10k-images-idx3-ubyte.gz\n",
        "\n",
        "if not os.path.exists(\"dataset/t10k-labels-idx1-ubyte.gz\"):\n",
        "  !wget -P dataset https://raw.githubusercontent.com/jskimn/aiservice_lesson/main/NNBasic/005_minist/dataset/t10k-labels-idx1-ubyte.gz\n",
        "\n",
        "#sample weight 추가\n",
        "if not os.path.exists(\"dataset/sample_weight.pkl\"):\n",
        "  !wget -P dataset https://raw.githubusercontent.com/jskimn/aiservice_lesson/main/NNBasic/005_minist/dataset/sample_weight.pkl\n",
        "\n",
        "#확인\n",
        "!realpath dataset/mnist.py\n",
        "!ls dataset"
      ],
      "metadata": {
        "colab": {
          "base_uri": "https://localhost:8080/"
        },
        "id": "htvZ767F5BSE",
        "outputId": "8d76272e-d53a-4cc2-ec37-28ffcd8a08a2"
      },
      "execution_count": 5,
      "outputs": [
        {
          "output_type": "stream",
          "name": "stdout",
          "text": [
            "--2025-03-25 10:40:08--  https://raw.githubusercontent.com/jskimn/aiservice_lesson/main/NNBasic/005_minist/dataset/mnist.py\n",
            "Resolving raw.githubusercontent.com (raw.githubusercontent.com)... 185.199.108.133, 185.199.109.133, 185.199.110.133, ...\n",
            "Connecting to raw.githubusercontent.com (raw.githubusercontent.com)|185.199.108.133|:443... connected.\n",
            "HTTP request sent, awaiting response... 200 OK\n",
            "Length: 3655 (3.6K) [text/plain]\n",
            "Saving to: ‘dataset/mnist.py’\n",
            "\n",
            "mnist.py            100%[===================>]   3.57K  --.-KB/s    in 0s      \n",
            "\n",
            "2025-03-25 10:40:09 (43.4 MB/s) - ‘dataset/mnist.py’ saved [3655/3655]\n",
            "\n",
            "--2025-03-25 10:40:09--  https://raw.githubusercontent.com/jskimn/aiservice_lesson/main/NNBasic/005_minist/dataset/train-images-idx3-ubyte.gz\n",
            "Resolving raw.githubusercontent.com (raw.githubusercontent.com)... 185.199.111.133, 185.199.108.133, 185.199.109.133, ...\n",
            "Connecting to raw.githubusercontent.com (raw.githubusercontent.com)|185.199.111.133|:443... connected.\n",
            "HTTP request sent, awaiting response... 200 OK\n",
            "Length: 9912422 (9.5M) [application/octet-stream]\n",
            "Saving to: ‘dataset/train-images-idx3-ubyte.gz’\n",
            "\n",
            "train-images-idx3-u 100%[===================>]   9.45M  --.-KB/s    in 0.1s    \n",
            "\n",
            "2025-03-25 10:40:10 (67.1 MB/s) - ‘dataset/train-images-idx3-ubyte.gz’ saved [9912422/9912422]\n",
            "\n",
            "--2025-03-25 10:40:10--  https://raw.githubusercontent.com/jskimn/aiservice_lesson/main/NNBasic/005_minist/dataset/train-labels-idx1-ubyte.gz\n",
            "Resolving raw.githubusercontent.com (raw.githubusercontent.com)... 185.199.108.133, 185.199.109.133, 185.199.110.133, ...\n",
            "Connecting to raw.githubusercontent.com (raw.githubusercontent.com)|185.199.108.133|:443... connected.\n",
            "HTTP request sent, awaiting response... 200 OK\n",
            "Length: 28881 (28K) [application/octet-stream]\n",
            "Saving to: ‘dataset/train-labels-idx1-ubyte.gz’\n",
            "\n",
            "train-labels-idx1-u 100%[===================>]  28.20K  --.-KB/s    in 0.004s  \n",
            "\n",
            "2025-03-25 10:40:10 (7.21 MB/s) - ‘dataset/train-labels-idx1-ubyte.gz’ saved [28881/28881]\n",
            "\n",
            "--2025-03-25 10:40:10--  https://raw.githubusercontent.com/jskimn/aiservice_lesson/main/NNBasic/005_minist/dataset/t10k-images-idx3-ubyte.gz\n",
            "Resolving raw.githubusercontent.com (raw.githubusercontent.com)... 185.199.108.133, 185.199.109.133, 185.199.110.133, ...\n",
            "Connecting to raw.githubusercontent.com (raw.githubusercontent.com)|185.199.108.133|:443... connected.\n",
            "HTTP request sent, awaiting response... 200 OK\n",
            "Length: 1648877 (1.6M) [application/octet-stream]\n",
            "Saving to: ‘dataset/t10k-images-idx3-ubyte.gz’\n",
            "\n",
            "t10k-images-idx3-ub 100%[===================>]   1.57M  --.-KB/s    in 0.09s   \n",
            "\n",
            "2025-03-25 10:40:10 (16.8 MB/s) - ‘dataset/t10k-images-idx3-ubyte.gz’ saved [1648877/1648877]\n",
            "\n",
            "--2025-03-25 10:40:10--  https://raw.githubusercontent.com/jskimn/aiservice_lesson/main/NNBasic/005_minist/dataset/t10k-labels-idx1-ubyte.gz\n",
            "Resolving raw.githubusercontent.com (raw.githubusercontent.com)... 185.199.111.133, 185.199.110.133, 185.199.108.133, ...\n",
            "Connecting to raw.githubusercontent.com (raw.githubusercontent.com)|185.199.111.133|:443... connected.\n",
            "HTTP request sent, awaiting response... 200 OK\n",
            "Length: 4542 (4.4K) [application/octet-stream]\n",
            "Saving to: ‘dataset/t10k-labels-idx1-ubyte.gz’\n",
            "\n",
            "t10k-labels-idx1-ub 100%[===================>]   4.44K  --.-KB/s    in 0s      \n",
            "\n",
            "2025-03-25 10:40:11 (49.9 MB/s) - ‘dataset/t10k-labels-idx1-ubyte.gz’ saved [4542/4542]\n",
            "\n",
            "--2025-03-25 10:40:11--  https://raw.githubusercontent.com/jskimn/aiservice_lesson/main/NNBasic/005_minist/dataset/sample_weight.pkl\n",
            "Resolving raw.githubusercontent.com (raw.githubusercontent.com)... 185.199.108.133, 185.199.110.133, 185.199.109.133, ...\n",
            "Connecting to raw.githubusercontent.com (raw.githubusercontent.com)|185.199.108.133|:443... connected.\n",
            "HTTP request sent, awaiting response... 200 OK\n",
            "Length: 181853 (178K) [application/octet-stream]\n",
            "Saving to: ‘dataset/sample_weight.pkl’\n",
            "\n",
            "sample_weight.pkl   100%[===================>] 177.59K  --.-KB/s    in 0.05s   \n",
            "\n",
            "2025-03-25 10:40:11 (3.54 MB/s) - ‘dataset/sample_weight.pkl’ saved [181853/181853]\n",
            "\n",
            "/content/dataset/mnist.py\n",
            "mnist.py\t   t10k-images-idx3-ubyte.gz  train-images-idx3-ubyte.gz\n",
            "sample_weight.pkl  t10k-labels-idx1-ubyte.gz  train-labels-idx1-ubyte.gz\n"
          ]
        }
      ]
    },
    {
      "cell_type": "code",
      "source": [
        "#sys.path.append(os.pardir)\n",
        "from dataset.mnist import load_mnist\n",
        "\n",
        "(x_train, t_train), (x_test, t_test) = load_mnist(flatten=True, normalize=False)\n",
        "\n",
        "# 각 데이터 shape 출력\n",
        "print(x_train.shape)\n",
        "print(t_train.shape)\n",
        "print(x_test.shape)\n",
        "print(t_test.shape)"
      ],
      "metadata": {
        "colab": {
          "base_uri": "https://localhost:8080/"
        },
        "id": "hp6Cmqea598k",
        "outputId": "f1cf949e-701f-4801-acf9-97aed6ec5b19"
      },
      "execution_count": 6,
      "outputs": [
        {
          "output_type": "stream",
          "name": "stdout",
          "text": [
            "Converting train-images-idx3-ubyte.gz to NumPy Array ...\n",
            "Done\n",
            "Converting train-labels-idx1-ubyte.gz to NumPy Array ...\n",
            "Done\n",
            "Converting t10k-images-idx3-ubyte.gz to NumPy Array ...\n",
            "Done\n",
            "Converting t10k-labels-idx1-ubyte.gz to NumPy Array ...\n",
            "Done\n",
            "Creating pickle file ...\n",
            "Done!\n",
            "(60000, 784)\n",
            "(60000,)\n",
            "(10000, 784)\n",
            "(10000,)\n"
          ]
        }
      ]
    },
    {
      "cell_type": "code",
      "source": [
        "%matplotlib inline\n",
        "from PIL import Image\n",
        "import numpy as np\n",
        "import matplotlib.pyplot as plt\n",
        "\n",
        "def img_show(img):\n",
        "    pil_img = Image.fromarray(np.uint8(img))\n",
        "    #pil_img.show()\n",
        "    plt.imshow(np.array(pil_img))\n",
        "\n",
        "img = x_train[170]\n",
        "print(img.shape)\n",
        "label = t_train[170]\n",
        "img = img.reshape(28, 28)\n",
        "img_show(img)\n",
        "\n",
        "print(label)\n"
      ],
      "metadata": {
        "colab": {
          "base_uri": "https://localhost:8080/",
          "height": 467
        },
        "id": "Rdy_rV-D66iM",
        "outputId": "437f3a46-9693-48cb-853b-2aabd3980585"
      },
      "execution_count": 11,
      "outputs": [
        {
          "output_type": "stream",
          "name": "stdout",
          "text": [
            "(784,)\n",
            "9\n"
          ]
        },
        {
          "output_type": "display_data",
          "data": {
            "text/plain": [
              "<Figure size 640x480 with 1 Axes>"
            ],
            "image/png": "[encoded data removed]"
          },
          "metadata": {}
        }
      ]
    },
    {
      "cell_type": "code",
      "source": [
        "import sys, os\n",
        "if not os.path.exists(\"dataset/mnist.py\"):\n",
        "    !wget -P dataset https://raw.githubusercontent.com/jskimn/aiservice_lesson/main/NNBasic/005_minist/dataset/mnist.py\n",
        "\n",
        "if not os.path.exists(\"common/functions.py\"):\n",
        "    !wget -P common https://raw.githubusercontent.com/jskimn/aiservice_lesson/main/NNBasic/005_minist/common/functions.py\n",
        "\n",
        "if not os.path.exists(\"dataset/train-images-idx3-ubyte.gz\"):\n",
        "    !wget -P dataset https://raw.githubusercontent.com/jskimn/aiservice_lesson/main/NNBasic/005_minist/dataset/train-images-idx3-ubyte.gz\n",
        "\n",
        "if not os.path.exists(\"dataset/train-labels-idx1-ubyte.gz\"):\n",
        "    !wget -P dataset https://raw.githubusercontent.com/jskimn/aiservice_lesson/main/NNBasic/005_minist/dataset/train-labels-idx1-ubyte.gz\n",
        "\n",
        "if not os.path.exists(\"dataset/t10k-images-idx3-ubyte.gz\"):\n",
        "    !wget -P dataset https://raw.githubusercontent.com/jskimn/aiservice_lesson/main/NNBasic/005_minist/dataset/t10k-images-idx3-ubyte.gz\n",
        "\n",
        "if not os.path.exists(\"dataset/t10k-labels-idx1-ubyte.gz\"):\n",
        "    !wget -P dataset https://raw.githubusercontent.com/jskimn/aiservice_lesson/main/NNBasic/005_minist/dataset/t10k-labels-idx1-ubyte.gz\n",
        "\n",
        "#sample weight 추가\n",
        "if not os.path.exists(\"dataset/sample_weight.pkl\"):\n",
        "    !wget -P dataset https://raw.githubusercontent.com/jskimn/aiservice_lesson/main/NNBasic/005_minist/dataset/sample_weight.pkl\n",
        "\n",
        "#확인\n",
        "!realpath dataset/mnist.py\n",
        "!ls dataset\n",
        ""
      ],
      "metadata": {
        "colab": {
          "base_uri": "https://localhost:8080/"
        },
        "id": "DXi67aTH8Qvd",
        "outputId": "0394f7f7-3e28-48c8-ee5f-b81ddab623c8"
      },
      "execution_count": 12,
      "outputs": [
        {
          "output_type": "stream",
          "name": "stdout",
          "text": [
            "--2025-03-25 10:55:06--  https://raw.githubusercontent.com/jskimn/aiservice_lesson/main/NNBasic/005_minist/common/functions.py\n",
            "Resolving raw.githubusercontent.com (raw.githubusercontent.com)... 185.199.108.133, 185.199.109.133, 185.199.110.133, ...\n",
            "Connecting to raw.githubusercontent.com (raw.githubusercontent.com)|185.199.108.133|:443... connected.\n",
            "HTTP request sent, awaiting response... 200 OK\n",
            "Length: 1075 (1.0K) [text/plain]\n",
            "Saving to: ‘common/functions.py’\n",
            "\n",
            "\rfunctions.py          0%[                    ]       0  --.-KB/s               \rfunctions.py        100%[===================>]   1.05K  --.-KB/s    in 0s      \n",
            "\n",
            "2025-03-25 10:55:06 (51.4 MB/s) - ‘common/functions.py’ saved [1075/1075]\n",
            "\n",
            "/content/dataset/mnist.py\n",
            "mnist.pkl  __pycache__\t      t10k-images-idx3-ubyte.gz  train-images-idx3-ubyte.gz\n",
            "mnist.py   sample_weight.pkl  t10k-labels-idx1-ubyte.gz  train-labels-idx1-ubyte.gz\n"
          ]
        }
      ]
    },
    {
      "cell_type": "code",
      "source": [
        "from dataset.mnist import load_mnist\n",
        "from common.functions import sigmoid, softmax\n",
        "import numpy as np\n",
        "import pickle\n",
        "\n",
        "def get_data():\n",
        "    (x_train, t_train), (x_test, t_test) = load_mnist(normalize=True, flatten=True, one_hot_label=False)\n",
        "    return x_test, t_test\n",
        "\n",
        "def init_network():\n",
        "    with open(\"dataset/sample_weight.pkl\", 'rb') as f:\n",
        "        network = pickle.load(f)\n",
        "    return network\n",
        "\n",
        "def predict(network, x):\n",
        "    W1, W2, W3 = network['W1'], network['W2'], network['W3']\n",
        "    b1, b2, b3 = network['b1'], network['b2'], network['b3']\n",
        "\n",
        "    a1 = np.dot(x, W1) + b1\n",
        "    z1 = sigmoid(a1)\n",
        "    a2 = np.dot(z1, W2) + b2\n",
        "    z2 = sigmoid(a2)\n",
        "    a3 = np.dot(z2, W3) + b3\n",
        "    y = softmax(a3)\n",
        "\n",
        "    return y\n",
        ""
      ],
      "metadata": {
        "id": "Cgr4c3VH8els"
      },
      "execution_count": 13,
      "outputs": []
    },
    {
      "cell_type": "code",
      "source": [
        "x, t = get_data()\n",
        "network = init_network()\n",
        "accuracy_cnt = 0\n",
        "for i in range(len(x)):\n",
        "    y = predict(network, x[i])\n",
        "    p= np.argmax(y) # 확률이 가장 높은 원소의 인덱스를 얻는다.\n",
        "    if p == t[i]:\n",
        "        accuracy_cnt += 1\n",
        "\n",
        "print(\"Accuracy:\" + str(float(accuracy_cnt) / len(x)))"
      ],
      "metadata": {
        "colab": {
          "base_uri": "https://localhost:8080/"
        },
        "id": "UYQNaHSa9Mrt",
        "outputId": "5a056716-b574-4bb1-acf4-37f38745bd93"
      },
      "execution_count": 14,
      "outputs": [
        {
          "output_type": "stream",
          "name": "stdout",
          "text": [
            "Accuracy:0.9352\n"
          ]
        }
      ]
    },
    {
      "cell_type": "code",
      "source": [
        "import sys, os\n",
        "if not os.path.exists(\"dataset/mnist.py\"):\n",
        "    !wget -P dataset https://raw.githubusercontent.com/jskimn/aiservice_lesson/main/NNBasic/005_minist/dataset/mnist.py\n",
        "\n",
        "if not os.path.exists(\"dataset/train-images-idx3-ubyte.gz\"):\n",
        "    !wget -P dataset https://raw.githubusercontent.com/jskimn/aiservice_lesson/main/NNBasic/005_minist/dataset/train-images-idx3-ubyte.gz\n",
        "\n",
        "if not os.path.exists(\"dataset/train-labels-idx1-ubyte.gz\"):\n",
        "    !wget -P dataset https://raw.githubusercontent.com/jskimn/aiservice_lesson/main/NNBasic/005_minist/dataset/train-labels-idx1-ubyte.gz\n",
        "\n",
        "if not os.path.exists(\"dataset/t10k-images-idx3-ubyte.gz\"):\n",
        "    !wget -P dataset https://raw.githubusercontent.com/jskimn/aiservice_lesson/main/NNBasic/005_minist/dataset/t10k-images-idx3-ubyte.gz\n",
        "\n",
        "if not os.path.exists(\"dataset/t10k-labels-idx1-ubyte.gz\"):\n",
        "    !wget -P dataset https://raw.githubusercontent.com/jskimn/aiservice_lesson/main/NNBasic/005_minist/dataset/t10k-labels-idx1-ubyte.gz\n",
        "\n",
        "  #common 파일 다운르도\n",
        "if not os.path.exists(\"common/functions.py\"):\n",
        "    !wget -P common https://raw.githubusercontent.com/jskimn/aiservice_lesson/main/NNBasic/005_minist/common/functions.py\n",
        "\n",
        "if not os.path.exists(\"common/gradient.py\"):\n",
        "    !wget -P common https://raw.githubusercontent.com/jskimn/aiservice_lesson/main/NNBasic/005_minist/common/gradient.py\n",
        "\n",
        "  #TwoLayerNet.py 다운로드\n",
        "if not os.path.exists(\"TwoLayerNet.py\"):\n",
        "    !wget https://raw.githubusercontent.com/jskimn/aiservice_lesson/main/NNBasic/005_minist/TwoLayerNet.py\n",
        "\n",
        "\n",
        "  #확인\n",
        "!realpath dataset/mnist.py\n",
        "!ls dataset"
      ],
      "metadata": {
        "colab": {
          "base_uri": "https://localhost:8080/"
        },
        "id": "A4H7S4Q1AS3W",
        "outputId": "0d3c7310-bce8-406a-9aa8-2c580c31531c"
      },
      "execution_count": 15,
      "outputs": [
        {
          "output_type": "stream",
          "name": "stdout",
          "text": [
            "--2025-03-25 11:12:13--  https://raw.githubusercontent.com/jskimn/aiservice_lesson/main/NNBasic/005_minist/common/gradient.py\n",
            "Resolving raw.githubusercontent.com (raw.githubusercontent.com)... 185.199.108.133, 185.199.109.133, 185.199.110.133, ...\n",
            "Connecting to raw.githubusercontent.com (raw.githubusercontent.com)|185.199.108.133|:443... connected.\n",
            "HTTP request sent, awaiting response... 200 OK\n",
            "Length: 1204 (1.2K) [text/plain]\n",
            "Saving to: ‘common/gradient.py’\n",
            "\n",
            "\rgradient.py           0%[                    ]       0  --.-KB/s               \rgradient.py         100%[===================>]   1.18K  --.-KB/s    in 0s      \n",
            "\n",
            "2025-03-25 11:12:13 (54.1 MB/s) - ‘common/gradient.py’ saved [1204/1204]\n",
            "\n",
            "--2025-03-25 11:12:13--  https://raw.githubusercontent.com/jskimn/aiservice_lesson/main/NNBasic/005_minist/TwoLayerNet.py\n",
            "Resolving raw.githubusercontent.com (raw.githubusercontent.com)... 185.199.111.133, 185.199.109.133, 185.199.110.133, ...\n",
            "Connecting to raw.githubusercontent.com (raw.githubusercontent.com)|185.199.111.133|:443... connected.\n",
            "HTTP request sent, awaiting response... 200 OK\n",
            "Length: 2473 (2.4K) [text/plain]\n",
            "Saving to: ‘TwoLayerNet.py’\n",
            "\n",
            "TwoLayerNet.py      100%[===================>]   2.42K  --.-KB/s    in 0s      \n",
            "\n",
            "2025-03-25 11:12:13 (24.5 MB/s) - ‘TwoLayerNet.py’ saved [2473/2473]\n",
            "\n",
            "/content/dataset/mnist.py\n",
            "mnist.pkl  __pycache__\t      t10k-images-idx3-ubyte.gz  train-images-idx3-ubyte.gz\n",
            "mnist.py   sample_weight.pkl  t10k-labels-idx1-ubyte.gz  train-labels-idx1-ubyte.gz\n"
          ]
        }
      ]
    },
    {
      "cell_type": "code",
      "source": [
        "import numpy as np\n",
        "import matplotlib.pyplot as plt\n",
        "from dataset.mnist import load_mnist\n",
        "from TwoLayerNet import TwoLayerNet\n",
        "\n",
        "# 데이터 읽기\n",
        "(x_train, t_train), (x_test, t_test) = load_mnist(normalize=True, one_hot_label=True)\n",
        "\n",
        "\n",
        "# 하이퍼파라미터\n",
        "iters_num = 10000  # 반복 횟수를 적절히 설정한다.\n",
        "train_size = x_train.shape[0]\n",
        "batch_size = 100   # 미니배치 크기\n",
        "learning_rate = 0.1\n",
        "\n",
        "#losss 및 정확도 변수\n",
        "train_loss_list = []\n",
        "train_acc_list = []\n",
        "test_acc_list = []\n",
        "\n",
        "# 1에폭당 반복 수\n",
        "iter_per_epoch = max(train_size / batch_size, 1)\n",
        "\n",
        "network = TwoLayerNet(input_size=784, hidden_size=50, output_size=10)"
      ],
      "metadata": {
        "id": "sUpvtnvvAcpu"
      },
      "execution_count": 16,
      "outputs": []
    },
    {
      "cell_type": "code",
      "source": [
        "for i in range(iters_num):\n",
        "    # 미니배치 획득\n",
        "    batch_mask = np.random.choice(train_size, batch_size)\n",
        "    x_batch = x_train[batch_mask]\n",
        "    t_batch = t_train[batch_mask]\n",
        "\n",
        "    # 기울기 계산\n",
        "    #grad = network.numerical_gradient(x_batch, t_batch)\n",
        "    grad = network.gradient(x_batch, t_batch)\n",
        "\n",
        "    # 매개변수 갱신\n",
        "    for key in ('W1', 'b1', 'W2', 'b2'):\n",
        "        network.params[key] -= learning_rate * grad[key]\n",
        "\n",
        "    # 학습 경과 기록\n",
        "    loss = network.loss(x_batch, t_batch)\n",
        "    train_loss_list.append(loss)\n",
        "\n",
        "    # 1에폭당 정확도 계산\n",
        "    if i % iter_per_epoch == 0:\n",
        "        train_acc = network.accuracy(x_train, t_train)\n",
        "        test_acc = network.accuracy(x_test, t_test)\n",
        "        train_acc_list.append(train_acc)\n",
        "        test_acc_list.append(test_acc)\n",
        "        print(\"train acc, test acc | \" + str(train_acc) + \", \" + str(test_acc))"
      ],
      "metadata": {
        "colab": {
          "base_uri": "https://localhost:8080/"
        },
        "id": "vzOjNBanES83",
        "outputId": "f59950c1-91bc-4982-f168-351f9dfdedd0"
      },
      "execution_count": 17,
      "outputs": [
        {
          "output_type": "stream",
          "name": "stdout",
          "text": [
            "train acc, test acc | 0.09915, 0.1009\n",
            "train acc, test acc | 0.78335, 0.7884\n",
            "train acc, test acc | 0.8793666666666666, 0.8838\n",
            "train acc, test acc | 0.8988166666666667, 0.904\n",
            "train acc, test acc | 0.9082, 0.9114\n",
            "train acc, test acc | 0.9152333333333333, 0.92\n",
            "train acc, test acc | 0.9198333333333333, 0.923\n",
            "train acc, test acc | 0.9232333333333334, 0.9253\n",
            "train acc, test acc | 0.9272666666666667, 0.9297\n",
            "train acc, test acc | 0.9308333333333333, 0.9329\n",
            "train acc, test acc | 0.9334666666666667, 0.9359\n",
            "train acc, test acc | 0.9358833333333333, 0.9377\n",
            "train acc, test acc | 0.9388, 0.9388\n",
            "train acc, test acc | 0.9409333333333333, 0.9409\n",
            "train acc, test acc | 0.9431666666666667, 0.9432\n",
            "train acc, test acc | 0.9455166666666667, 0.944\n",
            "train acc, test acc | 0.9472333333333334, 0.9456\n"
          ]
        }
      ]
    },
    {
      "cell_type": "markdown",
      "source": [
        "Loss 그래프"
      ],
      "metadata": {
        "id": "7ZW3hF0JF8nm"
      }
    },
    {
      "cell_type": "code",
      "source": [
        "# 그래프 그리기\n",
        "x = np.arange(len(train_loss_list))\n",
        "plt.plot(x, train_loss_list)\n",
        "plt.xlabel(\"iteration\")\n",
        "plt.ylabel(\"loss\")\n",
        "plt.ylim(0, 9)\n",
        "plt.xlim(0, 10000)\n",
        "plt.show()"
      ],
      "metadata": {
        "colab": {
          "base_uri": "https://localhost:8080/",
          "height": 455
        },
        "id": "JXBECTmOF3vu",
        "outputId": "56463999-51a7-4531-bae8-9eea0634caef"
      },
      "execution_count": 18,
      "outputs": [
        {
          "output_type": "display_data",
          "data": {
            "text/plain": [
              "<Figure size 640x480 with 1 Axes>"
            ],
            "image/png": "[encoded data removed]"
          },
          "metadata": {}
        }
      ]
    },
    {
      "cell_type": "markdown",
      "source": [
        "정확도 그래프 그리기"
      ],
      "metadata": {
        "id": "xZemq0nbGEFW"
      }
    },
    {
      "cell_type": "code",
      "source": [
        "x = np.arange(len(train_acc_list))\n",
        "plt.plot(x, train_acc_list, label='train acc')\n",
        "plt.plot(x, test_acc_list, label='test acc', linestyle='--')\n",
        "plt.xlabel(\"epochs\")\n",
        "plt.ylabel(\"accuracy\")\n",
        "plt.ylim(0, 1.0)\n",
        "plt.xlim(0, 16)\n",
        "plt.legend(loc='lower right')\n",
        "plt.show()"
      ],
      "metadata": {
        "colab": {
          "base_uri": "https://localhost:8080/",
          "height": 455
        },
        "id": "nh1jl_0IGGiO",
        "outputId": "504c2c64-1d3d-45fe-db65-25f670da7bc8"
      },
      "execution_count": 19,
      "outputs": [
        {
          "output_type": "display_data",
          "data": {
            "text/plain": [
              "<Figure size 640x480 with 1 Axes>"
            ],
            "image/png": "[encoded data removed]"
          },
          "metadata": {}
        }
      ]
    }
  ]
}